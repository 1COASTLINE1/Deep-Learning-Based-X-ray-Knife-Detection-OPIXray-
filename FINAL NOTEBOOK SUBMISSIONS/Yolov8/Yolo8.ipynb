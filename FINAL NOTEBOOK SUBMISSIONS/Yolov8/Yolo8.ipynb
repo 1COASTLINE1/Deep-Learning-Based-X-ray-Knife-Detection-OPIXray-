{
 "cells": [
  {
   "cell_type": "markdown",
   "metadata": {},
   "source": [
    "## Yolo8  Training "
   ]
  },
  {
   "cell_type": "code",
   "execution_count": 1,
   "metadata": {},
   "outputs": [
    {
     "name": "stdout",
     "output_type": "stream",
     "text": [
      "Sun Mar 30 21:03:39 2025       \n",
      "+---------------------------------------------------------------------------------------+\n",
      "| NVIDIA-SMI 536.23                 Driver Version: 536.23       CUDA Version: 12.2     |\n",
      "|-----------------------------------------+----------------------+----------------------+\n",
      "| GPU  Name                     TCC/WDDM  | Bus-Id        Disp.A | Volatile Uncorr. ECC |\n",
      "| Fan  Temp   Perf          Pwr:Usage/Cap |         Memory-Usage | GPU-Util  Compute M. |\n",
      "|                                         |                      |               MIG M. |\n",
      "|=========================================+======================+======================|\n",
      "|   0  NVIDIA GeForce RTX 3070      WDDM  | 00000000:01:00.0  On |                  N/A |\n",
      "|  0%   47C    P8              18W / 240W |   1432MiB /  8192MiB |      3%      Default |\n",
      "|                                         |                      |                  N/A |\n",
      "+-----------------------------------------+----------------------+----------------------+\n",
      "                                                                                         \n",
      "+---------------------------------------------------------------------------------------+\n",
      "| Processes:                                                                            |\n",
      "|  GPU   GI   CI        PID   Type   Process name                            GPU Memory |\n",
      "|        ID   ID                                                             Usage      |\n",
      "|=======================================================================================|\n",
      "|    0   N/A  N/A      1596    C+G   ...5n1h2txyewy\\ShellExperienceHost.exe    N/A      |\n",
      "|    0   N/A  N/A      5104    C+G   ...nt.CBS_cw5n1h2txyewy\\SearchHost.exe    N/A      |\n",
      "|    0   N/A  N/A      5776    C+G   C:\\Windows\\explorer.exe                   N/A      |\n",
      "|    0   N/A  N/A      6324    C+G   ...\\cef\\cef.win7x64\\steamwebhelper.exe    N/A      |\n",
      "|    0   N/A  N/A      8320    C+G   ...2txyewy\\StartMenuExperienceHost.exe    N/A      |\n",
      "|    0   N/A  N/A     10028    C+G   ...CBS_cw5n1h2txyewy\\TextInputHost.exe    N/A      |\n",
      "|    0   N/A  N/A     16584    C+G   ...n\\NVIDIA app\\CEF\\NVIDIA Overlay.exe    N/A      |\n",
      "|    0   N/A  N/A     16800    C+G   ...crosoft\\Edge\\Application\\msedge.exe    N/A      |\n",
      "|    0   N/A  N/A     17924    C+G   ...n\\NVIDIA app\\CEF\\NVIDIA Overlay.exe    N/A      |\n",
      "|    0   N/A  N/A     18792    C+G   ...crosoft\\Edge\\Application\\msedge.exe    N/A      |\n",
      "|    0   N/A  N/A     19344    C+G   ...on\\wallpaper_engine\\wallpaper32.exe    N/A      |\n",
      "|    0   N/A  N/A     22264    C+G   D:\\������\\CloudMusic\\cloudmusic.exe       N/A      |\n",
      "|    0   N/A  N/A     22972    C+G   ...1.0_x64__8wekyb3d8bbwe\\Video.UI.exe    N/A      |\n",
      "|    0   N/A  N/A     24056    C+G   ...1\\extracted\\runtime\\WeChatAppEx.exe    N/A      |\n",
      "|    0   N/A  N/A     26340    C+G   D:\\Microsoft VS Code\\Code.exe             N/A      |\n",
      "|    0   N/A  N/A     27560    C+G   ...siveControlPanel\\SystemSettings.exe    N/A      |\n",
      "|    0   N/A  N/A     28600    C+G   ...ekyb3d8bbwe\\PhoneExperienceHost.exe    N/A      |\n",
      "+---------------------------------------------------------------------------------------+\n"
     ]
    }
   ],
   "source": [
    "!nvidia-smi"
   ]
  },
  {
   "cell_type": "markdown",
   "metadata": {},
   "source": [
    "## Import all the package that we need"
   ]
  },
  {
   "cell_type": "code",
   "execution_count": 3,
   "metadata": {},
   "outputs": [],
   "source": [
    "from ultralytics import YOLO\n",
    "import os\n",
    "from IPython.display import display, Image\n",
    "from IPython import display\n",
    "display.clear_output()\n"
   ]
  },
  {
   "cell_type": "markdown",
   "metadata": {},
   "source": [
    "## Set up Parameters for training"
   ]
  },
  {
   "cell_type": "code",
   "execution_count": null,
   "metadata": {},
   "outputs": [],
   "source": [
    "#from ultralytics import YOLO\n",
    "model = YOLO(\"yolov8n.pt\")  # nano model\n",
    "model.train(\n",
    "    data=\" d:/STUDY_UNSW/2025T1/COMP9444_DL_Neural_Network/Team_project/Project/Dataset/data.yaml\",  \n",
    "    epochs=10,\n",
    "    imgsz=640,\n",
    "    batch=16,         \n",
    "    workers=2        \n",
    ")"
   ]
  },
  {
   "cell_type": "markdown",
   "metadata": {},
   "source": [
    "#### This code is designed to batch evaluate the detection performance of the YOLOv8 model on multiple test sets. By cyclically processing each test set and recording its mAP50 (representing the coarse-grained detection effect) and MAP50-95"
   ]
  },
  {
   "cell_type": "code",
   "execution_count": null,
   "metadata": {},
   "outputs": [
    {
     "name": "stdout",
     "output_type": "stream",
     "text": [
      "🔍 正在验证：test_0 ...\n",
      "Ultralytics 8.3.98  Python-3.11.2 torch-2.6.0+cu118 CUDA:0 (NVIDIA GeForce RTX 3070, 8192MiB)\n",
      "Model summary (fused): 72 layers, 3,006,623 parameters, 0 gradients, 8.1 GFLOPs\n"
     ]
    },
    {
     "name": "stderr",
     "output_type": "stream",
     "text": [
      "\u001b[34m\u001b[1mval: \u001b[0mScanning D:\\STUDY_UNSW\\2025T1\\COMP9444_DL_Neural_Network\\Team_project\\Project\\Dataset\\labels\\test_0.cache... 1776 images, 0 backgrounds, 0 corrupt: 100%|██████████| 1776/1776 [00:00<?, ?it/s]\n",
      "                 Class     Images  Instances      Box(P          R      mAP50  mAP50-95): 100%|██████████| 111/111 [00:07<00:00, 14.11it/s]\n"
     ]
    },
    {
     "name": "stdout",
     "output_type": "stream",
     "text": [
      "                   all       1776       1780      0.867      0.834      0.875      0.417\n",
      "Speed: 0.2ms preprocess, 1.7ms inference, 0.0ms loss, 0.5ms postprocess per image\n",
      "Results saved to \u001b[1mruns\\detect\\val\u001b[0m\n",
      "🔍 正在验证：test_1 ...\n",
      "Ultralytics 8.3.98  Python-3.11.2 torch-2.6.0+cu118 CUDA:0 (NVIDIA GeForce RTX 3070, 8192MiB)\n"
     ]
    },
    {
     "name": "stderr",
     "output_type": "stream",
     "text": [
      "\u001b[34m\u001b[1mval: \u001b[0mScanning D:\\STUDY_UNSW\\2025T1\\COMP9444_DL_Neural_Network\\Team_project\\Project\\Dataset\\labels\\test_1... 922 images, 0 backgrounds, 0 corrupt: 100%|██████████| 922/922 [00:01<00:00, 690.34it/s]\n"
     ]
    },
    {
     "name": "stdout",
     "output_type": "stream",
     "text": [
      "\u001b[34m\u001b[1mval: \u001b[0mNew cache created: D:\\STUDY_UNSW\\2025T1\\COMP9444_DL_Neural_Network\\Team_project\\Project\\Dataset\\labels\\test_1.cache\n"
     ]
    },
    {
     "name": "stderr",
     "output_type": "stream",
     "text": [
      "                 Class     Images  Instances      Box(P          R      mAP50  mAP50-95): 100%|██████████| 58/58 [00:06<00:00,  9.21it/s]\n"
     ]
    },
    {
     "name": "stdout",
     "output_type": "stream",
     "text": [
      "                   all        922        923      0.867      0.858      0.885      0.434\n",
      "Speed: 0.2ms preprocess, 2.6ms inference, 0.0ms loss, 0.9ms postprocess per image\n",
      "Results saved to \u001b[1mruns\\detect\\val2\u001b[0m\n",
      "🔍 正在验证：test_2 ...\n",
      "Ultralytics 8.3.98  Python-3.11.2 torch-2.6.0+cu118 CUDA:0 (NVIDIA GeForce RTX 3070, 8192MiB)\n"
     ]
    },
    {
     "name": "stderr",
     "output_type": "stream",
     "text": [
      "\u001b[34m\u001b[1mval: \u001b[0mScanning D:\\STUDY_UNSW\\2025T1\\COMP9444_DL_Neural_Network\\Team_project\\Project\\Dataset\\labels\\test_2... 548 images, 0 backgrounds, 0 corrupt: 100%|██████████| 548/548 [00:01<00:00, 409.31it/s]\n"
     ]
    },
    {
     "name": "stdout",
     "output_type": "stream",
     "text": [
      "\u001b[34m\u001b[1mval: \u001b[0mNew cache created: D:\\STUDY_UNSW\\2025T1\\COMP9444_DL_Neural_Network\\Team_project\\Project\\Dataset\\labels\\test_2.cache\n"
     ]
    },
    {
     "name": "stderr",
     "output_type": "stream",
     "text": [
      "                 Class     Images  Instances      Box(P          R      mAP50  mAP50-95): 100%|██████████| 35/35 [00:05<00:00,  6.47it/s]\n"
     ]
    },
    {
     "name": "stdout",
     "output_type": "stream",
     "text": [
      "                   all        548        550      0.852      0.828      0.869      0.413\n",
      "Speed: 0.4ms preprocess, 2.0ms inference, 0.0ms loss, 1.4ms postprocess per image\n",
      "Results saved to \u001b[1mruns\\detect\\val3\u001b[0m\n",
      "🔍 正在验证：test_3 ...\n",
      "Ultralytics 8.3.98  Python-3.11.2 torch-2.6.0+cu118 CUDA:0 (NVIDIA GeForce RTX 3070, 8192MiB)\n"
     ]
    },
    {
     "name": "stderr",
     "output_type": "stream",
     "text": [
      "\u001b[34m\u001b[1mval: \u001b[0mScanning D:\\STUDY_UNSW\\2025T1\\COMP9444_DL_Neural_Network\\Team_project\\Project\\Dataset\\labels\\test_3... 306 images, 0 backgrounds, 0 corrupt: 100%|██████████| 306/306 [00:00<00:00, 648.99it/s]\n"
     ]
    },
    {
     "name": "stdout",
     "output_type": "stream",
     "text": [
      "\u001b[34m\u001b[1mval: \u001b[0mNew cache created: D:\\STUDY_UNSW\\2025T1\\COMP9444_DL_Neural_Network\\Team_project\\Project\\Dataset\\labels\\test_3.cache\n"
     ]
    },
    {
     "name": "stderr",
     "output_type": "stream",
     "text": [
      "                 Class     Images  Instances      Box(P          R      mAP50  mAP50-95): 100%|██████████| 20/20 [00:01<00:00, 11.74it/s]\n"
     ]
    },
    {
     "name": "stdout",
     "output_type": "stream",
     "text": [
      "                   all        306        307      0.853      0.789      0.835      0.388\n",
      "Speed: 0.3ms preprocess, 1.9ms inference, 0.0ms loss, 0.7ms postprocess per image\n",
      "Results saved to \u001b[1mruns\\detect\\val4\u001b[0m\n",
      "  Test Set     mAP50  mAP50-95\n",
      "0   test_0  0.874707  0.417339\n",
      "1   test_1  0.885331  0.434027\n",
      "2   test_2  0.868996  0.413138\n",
      "3   test_3  0.834814  0.388013\n"
     ]
    }
   ],
   "source": [
    "from ultralytics import YOLO\n",
    "import os\n",
    "import pandas as pd\n",
    "\n",
    "# Load the model\n",
    "model = YOLO(\"runs/detect/train9/weights/best.pt\")\n",
    "\n",
    "# The paths to the test datasets\n",
    "yaml_paths = [os.path.abspath(f\"Dataset/test_{i}.yaml\") for i in range(4)]\n",
    "\n",
    "# store the results\n",
    "results = []\n",
    "\n",
    "# test each dataset\n",
    "for i, yaml_path in enumerate(yaml_paths):\n",
    "    print(f\"Testing：test_{i} ...\")\n",
    "    metrics = model.val(data=yaml_path, split='test', verbose=False)\n",
    "    results.append({\n",
    "        \"Test Set\": f\"test_{i}\",\n",
    "        \"mAP50\": metrics.box.map50,\n",
    "        \"mAP50-95\": metrics.box.map\n",
    "    })\n",
    "\n",
    "# print the results\n",
    "df = pd.DataFrame(results)\n",
    "print(df)\n"
   ]
  },
  {
   "cell_type": "code",
   "execution_count": 2,
   "metadata": {},
   "outputs": [],
   "source": [
    "from ultralytics import YOLO\n",
    "model = YOLO(\"runs/detect/train9/weights/best.pt\")"
   ]
  },
  {
   "cell_type": "markdown",
   "metadata": {},
   "source": [
    "#### To prevent creating so many files in images and labels, I try to test the model on my own method instead of the embedded function in YOLO.\n"
   ]
  },
  {
   "cell_type": "markdown",
   "metadata": {},
   "source": [
    "#### After scaling the image, this function conducts detection using the YOLO model and manually calculates evaluation indicators such as accuracy, recall rate, F1 and mAP50."
   ]
  },
  {
   "cell_type": "code",
   "execution_count": 2,
   "metadata": {},
   "outputs": [],
   "source": [
    "import os\n",
    "from PIL import Image\n",
    "import numpy as np\n",
    "from ultralytics import YOLO\n",
    "from collections import defaultdict\n",
    "\n",
    "def resize_and_evaluate_yolo(model, image_dir, label_dir, resize_ratio=0.5, iou_threshold=0.5, conf_threshold=0.25):\n",
    "    \"\"\"\n",
    "    Predict with resized images and manually evaluate Accuracy, Precision, Recall, F1, mAP50\n",
    "    \"\"\"\n",
    "    image_files = [f for f in os.listdir(image_dir) if f.endswith('.jpg')]\n",
    "    TP, FP, FN = 0, 0, 0\n",
    "\n",
    "    # For mAP50 calculation\n",
    "    class_scores = defaultdict(list)  # {cls: [(conf, is_tp)]}\n",
    "\n",
    "    for fname in image_files:\n",
    "        img_path = os.path.join(image_dir, fname)\n",
    "        label_path = os.path.join(label_dir, fname.replace('.jpg', '.txt'))\n",
    "\n",
    "        if not os.path.exists(label_path):\n",
    "            continue\n",
    "\n",
    "        # Load and resize image\n",
    "        img = Image.open(img_path).convert(\"RGB\")\n",
    "        w, h = img.size\n",
    "        resized_img = img.resize((int(w * resize_ratio), int(h * resize_ratio)))\n",
    "\n",
    "        # Run YOLO prediction\n",
    "        results = model.predict(source=resized_img, conf=conf_threshold, iou=iou_threshold, verbose=False)\n",
    "        preds = results[0].boxes\n",
    "\n",
    "        # Load ground truth labels\n",
    "        with open(label_path, 'r') as f:\n",
    "            lines = f.readlines()\n",
    "\n",
    "        gt_boxes = []\n",
    "        for line in lines:\n",
    "            cls, cx, cy, bw, bh = map(float, line.strip().split())\n",
    "            x1 = (cx - bw / 2) * resized_img.width\n",
    "            y1 = (cy - bh / 2) * resized_img.height\n",
    "            x2 = (cx + bw / 2) * resized_img.width\n",
    "            y2 = (cy + bh / 2) * resized_img.height\n",
    "            gt_boxes.append([x1, y1, x2, y2, int(cls)])\n",
    "\n",
    "        matched_gt = set()\n",
    "\n",
    "        # Evaluate predictions\n",
    "        for i, pred_box in enumerate(preds.xyxy):\n",
    "            px1, py1, px2, py2 = pred_box[:4].tolist()\n",
    "            pcls = int(preds.cls[i])\n",
    "            conf = float(preds.conf[i])\n",
    "            best_iou = 0\n",
    "            best_gt_idx = -1\n",
    "\n",
    "            for j, (gx1, gy1, gx2, gy2, gcls) in enumerate(gt_boxes):\n",
    "                if j in matched_gt or gcls != pcls:\n",
    "                    continue\n",
    "                # Compute IoU\n",
    "                ix1 = max(px1, gx1)\n",
    "                iy1 = max(py1, gy1)\n",
    "                ix2 = min(px2, gx2)\n",
    "                iy2 = min(py2, gy2)\n",
    "                iw = max(0, ix2 - ix1)\n",
    "                ih = max(0, iy2 - iy1)\n",
    "                inter = iw * ih\n",
    "                union = (px2 - px1) * (py2 - py1) + (gx2 - gx1) * (gy2 - gy1) - inter\n",
    "                iou = inter / union if union > 0 else 0\n",
    "\n",
    "                if iou >= iou_threshold and iou > best_iou:\n",
    "                    best_iou = iou\n",
    "                    best_gt_idx = j\n",
    "\n",
    "            if best_gt_idx >= 0:\n",
    "                TP += 1\n",
    "                matched_gt.add(best_gt_idx)\n",
    "                class_scores[pcls].append((conf, 1))  # TP\n",
    "            else:\n",
    "                FP += 1\n",
    "                class_scores[pcls].append((conf, 0))  # FP\n",
    "\n",
    "        FN += len(gt_boxes) - len(matched_gt)\n",
    "\n",
    "    # Final metrics\n",
    "    precision = TP / (TP + FP) if TP + FP > 0 else 0\n",
    "    recall = TP / (TP + FN) if TP + FN > 0 else 0\n",
    "    f1 = 2 * precision * recall / (precision + recall) if precision + recall > 0 else 0\n",
    "    acc = TP / (TP + FP + FN) if TP + FP + FN > 0 else 0\n",
    "\n",
    "    # Compute mAP50\n",
    "    def compute_ap(class_result):\n",
    "        if not class_result:\n",
    "            return 0\n",
    "        class_result.sort(reverse=True, key=lambda x: x[0])  # sort by confidence desc\n",
    "        tp_cum = 0\n",
    "        fp_cum = 0\n",
    "        precisions = []\n",
    "        recalls = []\n",
    "        total_gt = sum(1 for _, v in class_result if v == 1)\n",
    "\n",
    "        for conf, is_tp in class_result:\n",
    "            if is_tp:\n",
    "                tp_cum += 1\n",
    "            else:\n",
    "                fp_cum += 1\n",
    "            precision = tp_cum / (tp_cum + fp_cum)\n",
    "            recall = tp_cum / total_gt if total_gt > 0 else 0\n",
    "            precisions.append(precision)\n",
    "            recalls.append(recall)\n",
    "\n",
    "        ap = 0\n",
    "        for r_thresh in np.linspace(0, 1, 11):\n",
    "            p = max([p for p, r in zip(precisions, recalls) if r >= r_thresh], default=0)\n",
    "            ap += p\n",
    "        ap /= 11\n",
    "        return ap\n",
    "\n",
    "    aps = []\n",
    "    for cls, results in class_scores.items():\n",
    "        ap = compute_ap(results)\n",
    "        aps.append(ap)\n",
    "    map50 = sum(aps) / len(aps) if aps else 0\n",
    "\n",
    "    return {\n",
    "        \"TP\": TP,\n",
    "        \"FP\": FP,\n",
    "        \"FN\": FN,\n",
    "        \"Accuracy\": acc,\n",
    "        \"Precision\": precision,\n",
    "        \"Recall\": recall,\n",
    "        \"F1\": f1,\n",
    "        \"mAP50\": map50\n",
    "    }\n"
   ]
  },
  {
   "cell_type": "markdown",
   "metadata": {},
   "source": [
    "#### This code evaluates the detection performance of the YOLO model on four test sets respectively at two scaling ratios (0.5 and 0.3), and summarizes Accuracy, Precision, Recall, F1, and mAP50 into a table for output."
   ]
  },
  {
   "cell_type": "code",
   "execution_count": null,
   "metadata": {},
   "outputs": [
    {
     "name": "stdout",
     "output_type": "stream",
     "text": [
      "Resize Ratio Test Set Accuracy Precision  Recall F1 Score   mAP50\n",
      "         0.5   test_0   0.7612    0.8676  0.8612   0.8644  0.9534\n",
      "         0.5   test_1   0.7795    0.8714  0.8808   0.8761  0.9586\n",
      "         0.5   test_2   0.7613    0.8708  0.8582   0.8645  0.9423\n",
      "         0.5   test_3   0.7066    0.8493  0.8078    0.828  0.9619\n",
      "                                                                 \n",
      "         0.3   test_0   0.7098    0.8418  0.8191   0.8303  0.9437\n",
      "         0.3   test_1   0.7403    0.8554  0.8462   0.8508  0.9504\n",
      "         0.3   test_2   0.6987    0.8406  0.8055   0.8227  0.9409\n",
      "         0.3   test_3   0.6411    0.8014  0.7622   0.7813  0.9524\n",
      "                                                                 \n"
     ]
    }
   ],
   "source": [
    "import pandas as pd\n",
    "import os\n",
    "\n",
    "test_sets = [f\"test_{i}\" for i in range(4)]\n",
    "resize_ratios = [0.5, 0.3]\n",
    "\n",
    "image_base = \"Dataset/images\"\n",
    "label_base = \"Dataset/labels\"\n",
    "\n",
    "results_list = []\n",
    "\n",
    "for ratio in resize_ratios:\n",
    "    for test_set in test_sets:\n",
    "        image_dir = os.path.join(image_base, test_set)\n",
    "        label_dir = os.path.join(label_base, test_set)\n",
    "\n",
    "        results = resize_and_evaluate_yolo(model, image_dir, label_dir, resize_ratio=ratio)\n",
    "\n",
    "        results_list.append({\n",
    "            \"Resize Ratio\": ratio,\n",
    "            \"Test Set\": test_set,\n",
    "            \"Accuracy\": round(results[\"Accuracy\"], 4),\n",
    "            \"Precision\": round(results[\"Precision\"], 4),\n",
    "            \"Recall\": round(results[\"Recall\"], 4),\n",
    "            \"F1 Score\": round(results[\"F1\"], 4),\n",
    "            \"mAP50\": round(results[\"mAP50\"], 4)\n",
    "        })\n",
    "    \n",
    "    # Container for the final result\n",
    "    results_list.append({\n",
    "        \"Resize Ratio\": \"\",\n",
    "        \"Test Set\": \"\",\n",
    "        \"Accuracy\": \"\",\n",
    "        \"Precision\": \"\",\n",
    "        \"Recall\": \"\",\n",
    "        \"F1 Score\": \"\",\n",
    "        \"mAP50\": \"\"\n",
    "    })\n",
    "\n",
    "# Print the result\n",
    "df = pd.DataFrame(results_list)\n",
    "print(df.to_string(index=False))\n"
   ]
  },
  {
   "cell_type": "markdown",
   "metadata": {},
   "source": [
    "#### The function rotate_and_evaluate_yolo rotates the image (by default 15°) and uses the YOLO model for detection. Subsequently, manually calculate and return evaluation metrics such as Accuracy, Precision, Recall, F1 score and mAP50 to assess the robustness of the model against rotational perturbations"
   ]
  },
  {
   "cell_type": "code",
   "execution_count": 5,
   "metadata": {},
   "outputs": [],
   "source": [
    "import os\n",
    "from PIL import Image\n",
    "import numpy as np\n",
    "from ultralytics import YOLO\n",
    "from collections import defaultdict\n",
    "\n",
    "def rotate_bbox(bbox, angle, image_size):\n",
    "    \"\"\"\n",
    "    bbox: [x1, y1, x2, y2]\n",
    "    angle: degrees (positive = counter-clockwise)\n",
    "    image_size: (width, height)\n",
    "    return: rotated [x1', y1', x2', y2']\n",
    "    \"\"\"\n",
    "    w, h = image_size\n",
    "    angle_rad = -np.deg2rad(angle)  # PIL is CCW, this is CW\n",
    "\n",
    "    cx, cy = w / 2, h / 2\n",
    "\n",
    "    # Get four corners\n",
    "    x1, y1, x2, y2 = bbox\n",
    "    corners = np.array([\n",
    "        [x1, y1],\n",
    "        [x1, y2],\n",
    "        [x2, y1],\n",
    "        [x2, y2]\n",
    "    ])\n",
    "\n",
    "    # Move to origin\n",
    "    corners -= np.array([cx, cy])\n",
    "\n",
    "    # Rotate\n",
    "    rotation_matrix = np.array([\n",
    "        [np.cos(angle_rad), -np.sin(angle_rad)],\n",
    "        [np.sin(angle_rad),  np.cos(angle_rad)]\n",
    "    ])\n",
    "    rotated = corners @ rotation_matrix.T\n",
    "\n",
    "    # Move back\n",
    "    rotated += np.array([cx, cy])\n",
    "    x_coords, y_coords = rotated[:, 0], rotated[:, 1]\n",
    "\n",
    "    return [x_coords.min(), y_coords.min(), x_coords.max(), y_coords.max()]\n",
    "\n",
    "def rotate_and_evaluate_yolo(model, image_dir, label_dir, angle=15, iou_threshold=0.5, conf_threshold=0.25):\n",
    "    image_files = [f for f in os.listdir(image_dir) if f.endswith('.jpg')]\n",
    "    TP, FP, FN = 0, 0, 0\n",
    "    class_scores = defaultdict(list)\n",
    "\n",
    "    for fname in image_files:\n",
    "        img_path = os.path.join(image_dir, fname)\n",
    "        label_path = os.path.join(label_dir, fname.replace('.jpg', '.txt'))\n",
    "\n",
    "        if not os.path.exists(label_path):\n",
    "            continue\n",
    "\n",
    "        # Load and rotate image\n",
    "        img = Image.open(img_path).convert(\"RGB\")\n",
    "        rotated_img = img.rotate(angle, expand=False)\n",
    "        w, h = rotated_img.size\n",
    "\n",
    "        # Predict\n",
    "        results = model.predict(source=rotated_img, conf=conf_threshold, iou=iou_threshold, verbose=False)\n",
    "        preds = results[0].boxes\n",
    "\n",
    "        # Load and rotate GT bboxes\n",
    "        with open(label_path, 'r') as f:\n",
    "            lines = f.readlines()\n",
    "\n",
    "        gt_boxes = []\n",
    "        for line in lines:\n",
    "            cls, cx, cy, bw, bh = map(float, line.strip().split())\n",
    "            # Convert YOLO to absolute\n",
    "            x1 = (cx - bw / 2) * w\n",
    "            y1 = (cy - bh / 2) * h\n",
    "            x2 = (cx + bw / 2) * w\n",
    "            y2 = (cy + bh / 2) * h\n",
    "            rotated_box = rotate_bbox([x1, y1, x2, y2], angle, (w, h))\n",
    "            gt_boxes.append([*rotated_box, int(cls)])\n",
    "\n",
    "        matched_gt = set()\n",
    "\n",
    "        for i, pred_box in enumerate(preds.xyxy):\n",
    "            px1, py1, px2, py2 = pred_box[:4].tolist()\n",
    "            pcls = int(preds.cls[i])\n",
    "            conf = float(preds.conf[i])\n",
    "            best_iou = 0\n",
    "            best_gt_idx = -1\n",
    "\n",
    "            for j, (gx1, gy1, gx2, gy2, gcls) in enumerate(gt_boxes):\n",
    "                if j in matched_gt or gcls != pcls:\n",
    "                    continue\n",
    "                # Compute IoU\n",
    "                ix1 = max(px1, gx1)\n",
    "                iy1 = max(py1, gy1)\n",
    "                ix2 = min(px2, gx2)\n",
    "                iy2 = min(py2, gy2)\n",
    "                iw = max(0, ix2 - ix1)\n",
    "                ih = max(0, iy2 - iy1)\n",
    "                inter = iw * ih\n",
    "                union = (px2 - px1) * (py2 - py1) + (gx2 - gx1) * (gy2 - gy1) - inter\n",
    "                iou = inter / union if union > 0 else 0\n",
    "\n",
    "                if iou >= iou_threshold and iou > best_iou:\n",
    "                    best_iou = iou\n",
    "                    best_gt_idx = j\n",
    "\n",
    "            if best_gt_idx >= 0:\n",
    "                TP += 1\n",
    "                matched_gt.add(best_gt_idx)\n",
    "                class_scores[pcls].append((conf, 1))  # TP\n",
    "            else:\n",
    "                FP += 1\n",
    "                class_scores[pcls].append((conf, 0))  # FP\n",
    "\n",
    "        FN += len(gt_boxes) - len(matched_gt)\n",
    "\n",
    "    # Metrics\n",
    "    precision = TP / (TP + FP) if TP + FP > 0 else 0\n",
    "    recall = TP / (TP + FN) if TP + FN > 0 else 0\n",
    "    f1 = 2 * precision * recall / (precision + recall) if precision + recall > 0 else 0\n",
    "    acc = TP / (TP + FP + FN) if TP + FP + FN > 0 else 0\n",
    "\n",
    "    # Compute mAP50\n",
    "    def compute_ap(class_result):\n",
    "        if not class_result:\n",
    "            return 0\n",
    "        class_result.sort(reverse=True, key=lambda x: x[0])\n",
    "        tp_cum = 0\n",
    "        fp_cum = 0\n",
    "        precisions = []\n",
    "        recalls = []\n",
    "        total_gt = sum(1 for _, v in class_result if v == 1)\n",
    "\n",
    "        for conf, is_tp in class_result:\n",
    "            if is_tp:\n",
    "                tp_cum += 1\n",
    "            else:\n",
    "                fp_cum += 1\n",
    "            precision = tp_cum / (tp_cum + fp_cum)\n",
    "            recall = tp_cum / total_gt if total_gt > 0 else 0\n",
    "            precisions.append(precision)\n",
    "            recalls.append(recall)\n",
    "\n",
    "        ap = 0\n",
    "        for r_thresh in np.linspace(0, 1, 11):\n",
    "            p = max([p for p, r in zip(precisions, recalls) if r >= r_thresh], default=0)\n",
    "            ap += p\n",
    "        return ap / 11\n",
    "\n",
    "    aps = [compute_ap(v) for v in class_scores.values()]\n",
    "    map50 = sum(aps) / len(aps) if aps else 0\n",
    "\n",
    "    return {\n",
    "        \"TP\": TP,\n",
    "        \"FP\": FP,\n",
    "        \"FN\": FN,\n",
    "        \"Accuracy\": acc,\n",
    "        \"Precision\": precision,\n",
    "        \"Recall\": recall,\n",
    "        \"F1\": f1,\n",
    "        \"mAP50\": map50\n",
    "    }\n"
   ]
  },
  {
   "cell_type": "markdown",
   "metadata": {},
   "source": [
    "#### This code rotates the images in the four test sets by 15°, then uses the YOLO model for detection, and summarizes the Accuracy, Precision, Recall, F1 and mAP50 of each test set to evaluate the robustness performance of the model under rotation perturbation."
   ]
  },
  {
   "cell_type": "code",
   "execution_count": null,
   "metadata": {},
   "outputs": [
    {
     "name": "stdout",
     "output_type": "stream",
     "text": [
      "Rotation = 15°\n",
      "Test Set Rotation  Accuracy  Precision  Recall     F1  mAP50\n",
      "  test_0      15°    0.1753     0.2389  0.3972 0.2983 0.7571\n",
      "  test_1      15°    0.1716     0.2362  0.3857 0.2930 0.7716\n",
      "  test_2      15°    0.1742     0.2358  0.4000 0.2967 0.7774\n",
      "  test_3      15°    0.1882     0.2519  0.4267 0.3168 0.7396\n"
     ]
    }
   ],
   "source": [
    "import os\n",
    "import pandas as pd\n",
    "\n",
    "\n",
    "test_sets = [f\"test_{i}\" for i in range(4)]\n",
    "image_base = \"Dataset/images\"\n",
    "label_base = \"Dataset/labels\"\n",
    "\n",
    "# store the result\n",
    "rotated_results = []\n",
    "\n",
    "for test_set in test_sets:\n",
    "    image_dir = os.path.join(image_base, test_set)\n",
    "    label_dir = os.path.join(label_base, test_set)\n",
    "\n",
    "    result = rotate_and_evaluate_yolo(\n",
    "        model=model,\n",
    "        image_dir=image_dir,\n",
    "        label_dir=label_dir,\n",
    "        angle=15  # rotate 15 degrees\n",
    "    )\n",
    "\n",
    "    rotated_results.append({\n",
    "        \"Test Set\": test_set,\n",
    "        \"Rotation\": \"15°\",\n",
    "        \"Accuracy\": round(result[\"Accuracy\"], 4),\n",
    "        \"Precision\": round(result[\"Precision\"], 4),\n",
    "        \"Recall\": round(result[\"Recall\"], 4),\n",
    "        \"F1\": round(result[\"F1\"], 4),\n",
    "        \"mAP50\": round(result[\"mAP50\"], 4)\n",
    "    })\n",
    "\n",
    "# print the result\n",
    "df_rotated = pd.DataFrame(rotated_results)\n",
    "print(\"Rotation = 15°\")\n",
    "print(df_rotated.to_string(index=False))\n"
   ]
  },
  {
   "cell_type": "markdown",
   "metadata": {},
   "source": [
    "#### This code uses the YOLO model to detect four test sets without performing image rotation (0°), manually calculates Accuracy, Precision, Recall, F1 and mAP50, and outputs the detection performance results in the original state as the benchmark reference."
   ]
  },
  {
   "cell_type": "code",
   "execution_count": 7,
   "metadata": {},
   "outputs": [
    {
     "name": "stdout",
     "output_type": "stream",
     "text": [
      "Test Set  Accuracy  Precision  Recall     F1  mAP50\n",
      "  test_0    0.7693     0.8624  0.8770 0.8696 0.9498\n",
      "  test_1    0.7907     0.8665  0.9003 0.8831 0.9543\n",
      "  test_2    0.7568     0.8577  0.8655 0.8615 0.9362\n",
      "  test_3    0.7278     0.8581  0.8274 0.8425 0.9621\n"
     ]
    }
   ],
   "source": [
    "import os\n",
    "import pandas as pd\n",
    "# store the original results\n",
    "original_results = []\n",
    "\n",
    "test_sets = [f\"test_{i}\" for i in range(4)]\n",
    "image_base = \"Dataset/images\"\n",
    "label_base = \"Dataset/labels\"\n",
    "\n",
    "for test_set in test_sets:\n",
    "    image_dir = os.path.join(image_base, test_set)\n",
    "    label_dir = os.path.join(label_base, test_set)\n",
    "\n",
    "    result = rotate_and_evaluate_yolo(\n",
    "        model=model,\n",
    "        image_dir=image_dir,\n",
    "        label_dir=label_dir,\n",
    "        angle=0  # no rotation (0°)\n",
    "    )\n",
    "\n",
    "    original_results.append({\n",
    "        \"Test Set\": test_set,\n",
    "        \"Accuracy\": round(result[\"Accuracy\"], 4),\n",
    "        \"Precision\": round(result[\"Precision\"], 4),\n",
    "        \"Recall\": round(result[\"Recall\"], 4),\n",
    "        \"F1\": round(result[\"F1\"], 4),\n",
    "        \"mAP50\": round(result[\"mAP50\"], 4)\n",
    "    })\n",
    "\n",
    "# print the original results\n",
    "df_original = pd.DataFrame(original_results)\n",
    "print(df_original.to_string(index=False))\n"
   ]
  },
  {
   "cell_type": "markdown",
   "metadata": {},
   "source": [
    "## The final result for YOLO8 Model"
   ]
  },
  {
   "cell_type": "markdown",
   "metadata": {},
   "source": [
    "#### We print out the final performance of the model on the 4 different test datasets.And the performance on each label on the dataset contains the whole"
   ]
  },
  {
   "cell_type": "code",
   "execution_count": 6,
   "metadata": {},
   "outputs": [
    {
     "name": "stdout",
     "output_type": "stream",
     "text": [
      "Ultralytics 8.3.98  Python-3.11.2 torch-2.6.0+cu118 CUDA:0 (NVIDIA GeForce RTX 3070, 8192MiB)\n",
      "Model summary (fused): 72 layers, 3,006,623 parameters, 0 gradients, 8.1 GFLOPs\n"
     ]
    },
    {
     "name": "stderr",
     "output_type": "stream",
     "text": [
      "\u001b[34m\u001b[1mval: \u001b[0mScanning D:\\STUDY_UNSW\\2025T1\\COMP9444_DL_Neural_Network\\Team_project\\Project\\Dataset\\labels\\test_0.cache... 1776 images, 0 backgrounds, 0 corrupt: 100%|██████████| 1776/1776 [00:00<?, ?it/s]\n",
      "                 Class     Images  Instances      Box(P          R      mAP50  mAP50-95): 100%|██████████| 111/111 [00:08<00:00, 12.73it/s]\n"
     ]
    },
    {
     "name": "stdout",
     "output_type": "stream",
     "text": [
      "                   all       1776       1780      0.867      0.834      0.875      0.417\n",
      "        Straight_Knife        235        235        0.8       0.58      0.709      0.279\n",
      "         Folding_Knife        403        404      0.846      0.886      0.915      0.426\n",
      "               Scissor        368        368      0.989       0.98      0.989      0.538\n",
      "         Utility_Knife        343        343      0.819       0.81      0.826      0.412\n",
      "      Multi-tool_Knife        429        430      0.879      0.914      0.934      0.433\n",
      "Speed: 0.2ms preprocess, 1.8ms inference, 0.0ms loss, 0.5ms postprocess per image\n",
      "Saving runs\\detect\\val28\\predictions.json...\n",
      "Results saved to \u001b[1mruns\\detect\\val28\u001b[0m\n",
      "   Class Index        Class Name  Precision    Recall        F1     mAP50\n",
      "0            0    Straight_Knife   0.800402  0.580185  0.672730  0.709352\n",
      "1            1     Folding_Knife   0.845588  0.886139  0.865388  0.914923\n",
      "2            2           Scissor   0.989036  0.980499  0.984749  0.989107\n",
      "3            3     Utility_Knife   0.818639  0.810496  0.814547  0.825766\n",
      "4            4  Multi-tool_Knife   0.879424  0.913953  0.896356  0.934389\n"
     ]
    }
   ],
   "source": [
    "from ultralytics import YOLO\n",
    "import pandas as pd\n",
    "\n",
    "# Load the model\n",
    "model = YOLO(\"runs/detect/train9/weights/best.pt\")\n",
    "\n",
    "#Test on the whole test dataset\n",
    "metrics = model.val(data=\"Dataset/test_0.yaml\", split=\"test\", save_json=True)\n",
    "\n",
    "# Get the points\n",
    "p = metrics.box.p\n",
    "r = metrics.box.r\n",
    "f1 = metrics.box.f1\n",
    "ap50 = metrics.box.ap50\n",
    "\n",
    "# Name for the classes\n",
    "class_names = model.names\n",
    "\n",
    "# Create a DataFrame for the results\n",
    "df = pd.DataFrame({\n",
    "    \"Class Index\": list(class_names.keys()),\n",
    "    \"Class Name\": list(class_names.values()),\n",
    "    \"Precision\": p,\n",
    "    \"Recall\": r,\n",
    "    \"F1\": f1,\n",
    "    \"mAP50\": ap50\n",
    "})\n",
    "\n",
    "# Print the DataFrame\n",
    "print(df)\n",
    "\n",
    "# Save the DataFrame to a CSV file\n",
    "df.to_csv(\"Dataset/test_0_results.csv\", index=False)"
   ]
  },
  {
   "cell_type": "markdown",
   "metadata": {},
   "source": [
    "## Print out the performance of the model on different datasets."
   ]
  },
  {
   "cell_type": "code",
   "execution_count": 7,
   "metadata": {},
   "outputs": [
    {
     "name": "stdout",
     "output_type": "stream",
     "text": [
      "Evaluating test_0...\n",
      "Ultralytics 8.3.98  Python-3.11.2 torch-2.6.0+cu118 CUDA:0 (NVIDIA GeForce RTX 3070, 8192MiB)\n"
     ]
    },
    {
     "name": "stderr",
     "output_type": "stream",
     "text": [
      "\u001b[34m\u001b[1mval: \u001b[0mScanning D:\\STUDY_UNSW\\2025T1\\COMP9444_DL_Neural_Network\\Team_project\\Project\\Dataset\\labels\\test_0.cache... 1776 images, 0 backgrounds, 0 corrupt: 100%|██████████| 1776/1776 [00:00<?, ?it/s]\n",
      "                 Class     Images  Instances      Box(P          R      mAP50  mAP50-95): 100%|██████████| 111/111 [00:08<00:00, 12.44it/s]\n"
     ]
    },
    {
     "name": "stdout",
     "output_type": "stream",
     "text": [
      "                   all       1776       1780      0.867      0.834      0.875      0.417\n",
      "Speed: 0.2ms preprocess, 2.0ms inference, 0.0ms loss, 0.6ms postprocess per image\n",
      "Results saved to \u001b[1mruns\\detect\\val29\u001b[0m\n",
      "\n",
      "WARNING  inference results will accumulate in RAM unless `stream=True` is passed, causing potential out-of-memory\n",
      "errors for large sources or long-running streams and videos. See https://docs.ultralytics.com/modes/predict/ for help.\n",
      "\n",
      "Example:\n",
      "    results = model(source=..., stream=True)  # generator of Results objects\n",
      "    for r in results:\n",
      "        boxes = r.boxes  # Boxes object for bbox outputs\n",
      "        masks = r.masks  # Masks object for segment masks outputs\n",
      "        probs = r.probs  # Class probabilities for classification outputs\n",
      "\n",
      "Evaluating test_1...\n",
      "Ultralytics 8.3.98  Python-3.11.2 torch-2.6.0+cu118 CUDA:0 (NVIDIA GeForce RTX 3070, 8192MiB)\n"
     ]
    },
    {
     "name": "stderr",
     "output_type": "stream",
     "text": [
      "\u001b[34m\u001b[1mval: \u001b[0mScanning D:\\STUDY_UNSW\\2025T1\\COMP9444_DL_Neural_Network\\Team_project\\Project\\Dataset\\labels\\test_1.cache... 922 images, 0 backgrounds, 0 corrupt: 100%|██████████| 922/922 [00:00<?, ?it/s]\n",
      "                 Class     Images  Instances      Box(P          R      mAP50  mAP50-95): 100%|██████████| 58/58 [00:15<00:00,  3.86it/s]\n"
     ]
    },
    {
     "name": "stdout",
     "output_type": "stream",
     "text": [
      "                   all        922        923      0.867      0.858      0.885      0.434\n",
      "Speed: 0.4ms preprocess, 3.2ms inference, 0.0ms loss, 2.8ms postprocess per image\n",
      "Results saved to \u001b[1mruns\\detect\\val30\u001b[0m\n",
      "Evaluating test_2...\n",
      "Ultralytics 8.3.98  Python-3.11.2 torch-2.6.0+cu118 CUDA:0 (NVIDIA GeForce RTX 3070, 8192MiB)\n"
     ]
    },
    {
     "name": "stderr",
     "output_type": "stream",
     "text": [
      "\u001b[34m\u001b[1mval: \u001b[0mScanning D:\\STUDY_UNSW\\2025T1\\COMP9444_DL_Neural_Network\\Team_project\\Project\\Dataset\\labels\\test_2.cache... 548 images, 0 backgrounds, 0 corrupt: 100%|██████████| 548/548 [00:00<?, ?it/s]\n",
      "                 Class     Images  Instances      Box(P          R      mAP50  mAP50-95): 100%|██████████| 35/35 [00:03<00:00, 11.56it/s]\n"
     ]
    },
    {
     "name": "stdout",
     "output_type": "stream",
     "text": [
      "                   all        548        550      0.852      0.828      0.869      0.413\n",
      "Speed: 0.3ms preprocess, 1.9ms inference, 0.0ms loss, 0.7ms postprocess per image\n",
      "Results saved to \u001b[1mruns\\detect\\val31\u001b[0m\n",
      "Evaluating test_3...\n",
      "Ultralytics 8.3.98  Python-3.11.2 torch-2.6.0+cu118 CUDA:0 (NVIDIA GeForce RTX 3070, 8192MiB)\n"
     ]
    },
    {
     "name": "stderr",
     "output_type": "stream",
     "text": [
      "\u001b[34m\u001b[1mval: \u001b[0mScanning D:\\STUDY_UNSW\\2025T1\\COMP9444_DL_Neural_Network\\Team_project\\Project\\Dataset\\labels\\test_3.cache... 306 images, 0 backgrounds, 0 corrupt: 100%|██████████| 306/306 [00:00<?, ?it/s]\n",
      "                 Class     Images  Instances      Box(P          R      mAP50  mAP50-95): 100%|██████████| 20/20 [00:01<00:00, 12.02it/s]\n"
     ]
    },
    {
     "name": "stdout",
     "output_type": "stream",
     "text": [
      "                   all        306        307      0.853      0.789      0.835      0.388\n",
      "Speed: 0.6ms preprocess, 1.7ms inference, 0.0ms loss, 0.6ms postprocess per image\n",
      "Results saved to \u001b[1mruns\\detect\\val32\u001b[0m\n",
      "  Test Set  Precision  Recall      F1   mAP50  IoU Ratio  Avg IoU\n",
      "0   test_0     0.8666  0.8343  0.8468  0.8747     0.9347   0.7168\n",
      "1   test_1     0.8671  0.8577  0.8615  0.8853     0.9371   0.7206\n",
      "2   test_2     0.8525  0.8284  0.8362  0.8690     0.9325   0.7228\n",
      "3   test_3     0.8525  0.7894  0.8112  0.8348     0.9314   0.6946\n"
     ]
    }
   ],
   "source": [
    "from ultralytics import YOLO\n",
    "import pandas as pd\n",
    "import os\n",
    "import numpy as np\n",
    "\n",
    "\n",
    "# The setup for the test datasets\n",
    "test_sets = [f\"test_{i}\" for i in range(4)]\n",
    "yaml_paths = [os.path.abspath(f\"Dataset/{t}.yaml\") for t in test_sets]\n",
    "image_dirs = [f\"Dataset/images/{t}\" for t in test_sets]\n",
    "label_dirs = [f\"Dataset/labels/{t}\" for t in test_sets]\n",
    "\n",
    "results = []\n",
    "\n",
    "for name, yaml_path, image_dir, label_dir in zip(test_sets, yaml_paths, image_dirs, label_dirs):\n",
    "    print(f\"Evaluating {name}...\")\n",
    "\n",
    "    # Get metrics from the model\n",
    "    metrics = model.val(data=yaml_path, split=\"test\", verbose=False)\n",
    "    precision = sum(metrics.box.p) / len(metrics.box.p)\n",
    "    recall = sum(metrics.box.r) / len(metrics.box.r)\n",
    "    f1 = sum(metrics.box.f1) / len(metrics.box.f1)\n",
    "    map50 = sum(metrics.box.ap50) / len(metrics.box.ap50)\n",
    "\n",
    "    # Use the model to predict on the test set\n",
    "    predictions = model.predict(source=image_dir, conf=0.001, iou=0.001, verbose=False)\n",
    "    \n",
    "    from pathlib import Path\n",
    "    iou_hits = 0\n",
    "    iou_total = 0\n",
    "    valid_iou_count = 0\n",
    "    total_images = 0\n",
    "\n",
    "    for pred in predictions:\n",
    "        image_name = Path(pred.path).name.replace(\".jpg\", \".txt\")\n",
    "        label_path = os.path.join(label_dir, image_name)\n",
    "        if not os.path.exists(label_path):\n",
    "            continue\n",
    "\n",
    "        total_images += 1\n",
    "\n",
    "        # Load GT boxes\n",
    "        h, w = pred.orig_shape\n",
    "        with open(label_path, \"r\") as f:\n",
    "            gts = []\n",
    "            for line in f.readlines():\n",
    "                cls, cx, cy, bw, bh = map(float, line.strip().split())\n",
    "                x1 = (cx - bw/2) * w\n",
    "                y1 = (cy - bh/2) * h\n",
    "                x2 = (cx + bw/2) * w\n",
    "                y2 = (cy + bh/2) * h\n",
    "                gts.append([x1, y1, x2, y2])\n",
    "        if not gts or pred.boxes is None:\n",
    "            continue\n",
    "\n",
    "        # Predict boxes\n",
    "        gts = np.array(gts)\n",
    "        preds = pred.boxes.xyxy.cpu().numpy()\n",
    "\n",
    "        max_iou = 0\n",
    "        for p in preds:\n",
    "            for g in gts:\n",
    "                ix1 = max(p[0], g[0])\n",
    "                iy1 = max(p[1], g[1])\n",
    "                ix2 = min(p[2], g[2])\n",
    "                iy2 = min(p[3], g[3])\n",
    "                inter = max(0, ix2 - ix1) * max(0, iy2 - iy1)\n",
    "                union = (p[2]-p[0])*(p[3]-p[1]) + (g[2]-g[0])*(g[3]-g[1]) - inter\n",
    "                iou = inter / union if union > 0 else 0\n",
    "                max_iou = max(max_iou, iou)\n",
    "\n",
    "        if max_iou > 0.5:\n",
    "            iou_hits += 1\n",
    "        iou_total += max_iou\n",
    "        valid_iou_count += 1\n",
    "\n",
    "    iou_ratio = iou_hits / total_images if total_images > 0 else 0\n",
    "    iou_mean = iou_total / valid_iou_count if valid_iou_count > 0 else 0\n",
    "\n",
    "    # Summarize results\n",
    "    results.append({\n",
    "        \"Test Set\": name,\n",
    "        \"Precision\": round(precision, 4),\n",
    "        \"Recall\": round(recall, 4),\n",
    "        \"F1\": round(f1, 4),\n",
    "        \"mAP50\": round(map50, 4),\n",
    "        \"IoU Ratio\": round(iou_ratio, 4),\n",
    "        \"Avg IoU\": round(iou_mean, 4)\n",
    "    })\n",
    "\n",
    "df = pd.DataFrame(results)\n",
    "print(df)\n",
    "\n",
    "# Save the DataFrame to a CSV file\n",
    "df.to_csv(\"Dataset/test_results.csv\", index=False)\n"
   ]
  },
  {
   "cell_type": "markdown",
   "metadata": {},
   "source": [
    "## Test the model and print out the result photo"
   ]
  },
  {
   "cell_type": "code",
   "execution_count": null,
   "metadata": {},
   "outputs": [
    {
     "name": "stdout",
     "output_type": "stream",
     "text": [
      "\n",
      "image 1/1 d:\\STUDY_UNSW\\2025T1\\COMP9444_DL_Neural_Network\\Team_project\\Project\\Dataset\\images\\test_0\\024119.jpg: 512x640 1 Scissor, 38.1ms\n",
      "Speed: 4.0ms preprocess, 38.1ms inference, 2.1ms postprocess per image at shape (1, 3, 512, 640)\n",
      "Results saved to \u001b[1mruns\\detect\\predict3\u001b[0m\n"
     ]
    },
    {
     "data": {
      "image/png": "[encoded data removed]",
      "text/plain": [
       "<Figure size 640x480 with 1 Axes>"
      ]
     },
     "metadata": {},
     "output_type": "display_data"
    }
   ],
   "source": [
    "from ultralytics import YOLO\n",
    "import matplotlib.pyplot as plt\n",
    "import cv2\n",
    "%matplotlib inline\n",
    "# Set the path to the model\n",
    "model = YOLO(\"runs/detect/train9/weights/best.pt\")\n",
    "\n",
    "image_path = \"Dataset/images/test_0/024119.jpg\"\n",
    "# predict using the model\n",
    "results = model.predict(source=image_path, save=True, conf=0.25)\n",
    "\n",
    "# Show the results\n",
    "img = cv2.cvtColor(results[0].plot(), cv2.COLOR_BGR2RGB)\n",
    "\n",
    "# Plot the image with predictions\n",
    "plt.imshow(img)\n",
    "plt.axis('off')\n",
    "plt.title(\"YOLOv8 Prediction\")\n",
    "plt.show()"
   ]
  },
  {
   "cell_type": "markdown",
   "metadata": {},
   "source": [
    "#### This code uses the YOLO model to reason about all the images in the test_0 test set, and for the target categories \"Scissor\" and \"Straight_Knife\", it identifies the images with the highest (best) and lowest (worst) confidence in each category. It is used to analyze the strongest and weakest performance samples of the model for detecting specific categories."
   ]
  },
  {
   "cell_type": "code",
   "execution_count": null,
   "metadata": {},
   "outputs": [
    {
     "name": "stdout",
     "output_type": "stream",
     "text": [
      "🟢 Best Scissor image:  Dataset\\images\\test_0\\024119.jpg  (conf: 0.860)\n",
      "🔴 Worst Scissor image: Dataset\\images\\test_0\\010466.jpg (conf: 0.000)\n",
      "🟢 Best Straight_Knife image:  Dataset\\images\\test_0\\010546.jpg  (conf: 0.932)\n",
      "🔴 Worst Straight_Knife image: Dataset\\images\\test_0\\010467.jpg (conf: 0.000)\n"
     ]
    }
   ],
   "source": [
    "from ultralytics import YOLO\n",
    "from pathlib import Path\n",
    "import numpy as np\n",
    "\n",
    "# Load the model\n",
    "image_dir = Path(\"Dataset/images/test_0\")\n",
    "image_paths = list(image_dir.glob(\"*.jpg\"))\n",
    "\n",
    "# Class name and mapping\n",
    "class_map = {\n",
    "    'Straight_Knife': 0,\n",
    "    'Folding_Knife': 1,\n",
    "    'Scissor': 2,\n",
    "    'Utility_Knife': 3,\n",
    "    'Multi-tool_Knife': 4\n",
    "}\n",
    "\n",
    "target_classes = [\"Scissor\", \"Straight_Knife\"]\n",
    "\n",
    "# Record the best and worst images for each class\n",
    "class_results = {\n",
    "    cls_name: {\n",
    "        \"best\": (\"\", -1.0),   # (path, best_conf)\n",
    "        \"worst\": (\"\", 1.1)    # (path, worst_conf)\n",
    "    } for cls_name in target_classes\n",
    "}\n",
    "\n",
    "for img_path in image_paths:\n",
    "    results = model.predict(source=str(img_path), conf=0.25, iou=0.5, verbose=False)\n",
    "    r = results[0]\n",
    "    if r.boxes is None or len(r.boxes) == 0:\n",
    "        continue\n",
    "\n",
    "    classes = r.boxes.cls.cpu().numpy()\n",
    "    confs = r.boxes.conf.cpu().numpy()\n",
    "\n",
    "    for cls_name in target_classes:\n",
    "        cls_id = class_map[cls_name]\n",
    "\n",
    "        if cls_id in classes:\n",
    "            matched_confs = [c for c, cl in zip(confs, classes) if cl == cls_id]\n",
    "            max_conf = max(matched_confs)\n",
    "            min_conf = min(matched_confs)\n",
    "\n",
    "            # Update best\n",
    "            if max_conf > class_results[cls_name][\"best\"][1]:\n",
    "                class_results[cls_name][\"best\"] = (str(img_path), max_conf)\n",
    "            # Update worst\n",
    "            if min_conf < class_results[cls_name][\"worst\"][1]:\n",
    "                class_results[cls_name][\"worst\"] = (str(img_path), min_conf)\n",
    "        else:\n",
    "            # If no detection for this class, set worst to 0.0\n",
    "            if 0.0 < class_results[cls_name][\"worst\"][1]:\n",
    "                class_results[cls_name][\"worst\"] = (str(img_path), 0.0)\n",
    "\n",
    "# Print the results\n",
    "for cls_name in target_classes:\n",
    "    print(f\"🟢 Best {cls_name} image:  {class_results[cls_name]['best'][0]}  (conf: {class_results[cls_name]['best'][1]:.3f})\")\n",
    "    print(f\"🔴 Worst {cls_name} image: {class_results[cls_name]['worst'][0]} (conf: {class_results[cls_name]['worst'][1]:.3f})\")\n"
   ]
  },
  {
   "cell_type": "markdown",
   "metadata": {},
   "source": [
    "## Check the missing classification rate"
   ]
  },
  {
   "cell_type": "code",
   "execution_count": null,
   "metadata": {},
   "outputs": [
    {
     "name": "stdout",
     "output_type": "stream",
     "text": [
      "\n",
      "WARNING  inference results will accumulate in RAM unless `stream=True` is passed, causing potential out-of-memory\n",
      "errors for large sources or long-running streams and videos. See https://docs.ultralytics.com/modes/predict/ for help.\n",
      "\n",
      "Example:\n",
      "    results = model(source=..., stream=True)  # generator of Results objects\n",
      "    for r in results:\n",
      "        boxes = r.boxes  # Boxes object for bbox outputs\n",
      "        masks = r.masks  # Masks object for segment masks outputs\n",
      "        probs = r.probs  # Class probabilities for classification outputs\n",
      "\n",
      "Missed detection rate: 0.1230 (219/1780)\n"
     ]
    }
   ],
   "source": [
    "from ultralytics import YOLO\n",
    "import os\n",
    "import numpy as np\n",
    "from pathlib import Path\n",
    "import cv2\n",
    "\n",
    "# Load the model\n",
    "model = YOLO(\"best.pt\")\n",
    "\n",
    "# Set the paths to the test dataset\n",
    "image_dir = \"Dataset/images/test_0\"\n",
    "label_dir = \"Dataset/labels/test_0\"\n",
    "\n",
    "# Predict using the model\n",
    "predictions = model.predict(source=image_dir, conf=0.25, iou=0.5, verbose=False)\n",
    "\n",
    "total_gt = 0\n",
    "missed = 0\n",
    "\n",
    "for pred in predictions:\n",
    "    image_name = Path(pred.path).name\n",
    "    label_path = os.path.join(label_dir, image_name.replace(\".jpg\", \".txt\"))\n",
    "    if not os.path.exists(label_path):\n",
    "        continue\n",
    "\n",
    "    # Get the image size\n",
    "    img = cv2.imread(pred.path)\n",
    "    h, w = img.shape[:2]\n",
    "\n",
    "    # Read the ground truth labels\n",
    "    with open(label_path, \"r\") as f:\n",
    "        gts = []\n",
    "        for line in f.readlines():\n",
    "            cls, cx, cy, bw, bh = map(float, line.strip().split())\n",
    "            x1 = (cx - bw/2) * w\n",
    "            y1 = (cy - bh/2) * h\n",
    "            x2 = (cx + bw/2) * w\n",
    "            y2 = (cy + bh/2) * h\n",
    "            gts.append([x1, y1, x2, y2, int(cls)])\n",
    "\n",
    "    if not gts:\n",
    "        continue\n",
    "    total_gt += len(gts)\n",
    "    gts = np.array(gts)\n",
    "\n",
    "    preds = pred.boxes\n",
    "    if preds is None:\n",
    "        missed += len(gts)\n",
    "        continue\n",
    "\n",
    "    pred_boxes = preds.xyxy.cpu().numpy()\n",
    "    pred_classes = preds.cls.cpu().numpy()\n",
    "\n",
    "    matched = np.zeros(len(gts), dtype=bool)\n",
    "\n",
    "    for p_box, p_cls in zip(pred_boxes, pred_classes):\n",
    "        for i, g in enumerate(gts):\n",
    "            if matched[i]:\n",
    "                continue\n",
    "            g_box, g_cls = g[:4], g[4]\n",
    "            # Compute IoU\n",
    "            ix1 = max(p_box[0], g_box[0])\n",
    "            iy1 = max(p_box[1], g_box[1])\n",
    "            ix2 = min(p_box[2], g_box[2])\n",
    "            iy2 = min(p_box[3], g_box[3])\n",
    "            inter = max(0, ix2 - ix1) * max(0, iy2 - iy1)\n",
    "            union = (p_box[2]-p_box[0]) * (p_box[3]-p_box[1]) + \\\n",
    "                    (g_box[2]-g_box[0]) * (g_box[3]-g_box[1]) - inter\n",
    "            iou = inter / union if union > 0 else 0\n",
    "\n",
    "            if iou > 0.5 and int(p_cls) == g_cls:\n",
    "                matched[i] = True\n",
    "                break\n",
    "\n",
    "    missed += np.sum(~matched)\n",
    "\n",
    "# Calculate the missed detection rate\n",
    "miss_ratio = missed / total_gt if total_gt > 0 else 0\n",
    "print(f\"Missed detection rate: {miss_ratio:.4f} ({missed}/{total_gt})\")\n"
   ]
  }
 ],
 "metadata": {
  "kernelspec": {
   "display_name": "Python 3",
   "language": "python",
   "name": "python3"
  },
  "language_info": {
   "codemirror_mode": {
    "name": "ipython",
    "version": 3
   },
   "file_extension": ".py",
   "mimetype": "text/x-python",
   "name": "python",
   "nbconvert_exporter": "python",
   "pygments_lexer": "ipython3",
   "version": "3.11.2"
  }
 },
 "nbformat": 4,
 "nbformat_minor": 2
}
